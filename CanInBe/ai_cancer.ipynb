{
  "cells": [
    {
      "cell_type": "code",
      "execution_count": null,
      "metadata": {
        "id": "XM7zYfC0rl_W"
      },
      "outputs": [],
      "source": [
        "# Importar bibliotecas\n",
        "from sklearn.model_selection import train_test_split\n",
        "from sklearn.neighbors import KNeighborsClassifier\n",
        "from sklearn import datasets\n",
        "from sklearn import metrics\n",
        "import pandas as pd"
      ]
    },
    {
      "cell_type": "markdown",
      "metadata": {},
      "source": []
    },
    {
      "cell_type": "code",
      "execution_count": 1,
      "metadata": {
        "id": "jHBifyXKte2x"
      },
      "outputs": [
        {
          "ename": "NameError",
          "evalue": "name 'pd' is not defined",
          "output_type": "error",
          "traceback": [
            "\u001b[1;31m---------------------------------------------------------------------------\u001b[0m",
            "\u001b[1;31mNameError\u001b[0m                                 Traceback (most recent call last)",
            "Cell \u001b[1;32mIn[1], line 2\u001b[0m\n\u001b[0;32m      1\u001b[0m file_path \u001b[38;5;241m=\u001b[39m \u001b[38;5;124m'\u001b[39m\u001b[38;5;124mdata/breast-cancer.data\u001b[39m\u001b[38;5;124m'\u001b[39m\n\u001b[1;32m----> 2\u001b[0m df \u001b[38;5;241m=\u001b[39m \u001b[43mpd\u001b[49m\u001b[38;5;241m.\u001b[39mread_csv(file_path)\n",
            "\u001b[1;31mNameError\u001b[0m: name 'pd' is not defined"
          ]
        }
      ],
      "source": [
        "file_path = 'data/breast-cancer.data'\n",
        "df = pd.read_csv(file_path)"
      ]
    },
    {
      "cell_type": "code",
      "execution_count": 2,
      "metadata": {
        "colab": {
          "base_uri": "https://localhost:8080/"
        },
        "id": "SlugeVnFtnvi",
        "outputId": "d1282886-4544-4bcf-9488-c7ee513dc689"
      },
      "outputs": [
        {
          "ename": "NameError",
          "evalue": "name 'df' is not defined",
          "output_type": "error",
          "traceback": [
            "\u001b[1;31m---------------------------------------------------------------------------\u001b[0m",
            "\u001b[1;31mNameError\u001b[0m                                 Traceback (most recent call last)",
            "Cell \u001b[1;32mIn[2], line 1\u001b[0m\n\u001b[1;32m----> 1\u001b[0m \u001b[43mdf\u001b[49m\u001b[38;5;241m.\u001b[39minfo()\n",
            "\u001b[1;31mNameError\u001b[0m: name 'df' is not defined"
          ]
        }
      ],
      "source": [
        "df.info()"
      ]
    },
    {
      "cell_type": "code",
      "execution_count": 3,
      "metadata": {
        "colab": {
          "base_uri": "https://localhost:8080/",
          "height": 363
        },
        "id": "tQKijDXyxe3A",
        "outputId": "e2594314-4eb3-4002-9ef4-9d2c16555cbd"
      },
      "outputs": [
        {
          "ename": "NameError",
          "evalue": "name 'df' is not defined",
          "output_type": "error",
          "traceback": [
            "\u001b[1;31m---------------------------------------------------------------------------\u001b[0m",
            "\u001b[1;31mNameError\u001b[0m                                 Traceback (most recent call last)",
            "Cell \u001b[1;32mIn[3], line 1\u001b[0m\n\u001b[1;32m----> 1\u001b[0m \u001b[43mdf\u001b[49m\u001b[38;5;241m.\u001b[39mhead(\u001b[38;5;241m10\u001b[39m)\n",
            "\u001b[1;31mNameError\u001b[0m: name 'df' is not defined"
          ]
        }
      ],
      "source": [
        "df.head(10)"
      ]
    },
    {
      "cell_type": "code",
      "execution_count": null,
      "metadata": {
        "colab": {
          "base_uri": "https://localhost:8080/"
        },
        "id": "zUPMb-6t1NG-",
        "outputId": "cb7cd1b6-65ef-48bc-c12d-7d8bcc0b8348"
      },
      "outputs": [],
      "source": [
        "df['edad'].unique()"
      ]
    },
    {
      "cell_type": "code",
      "execution_count": null,
      "metadata": {
        "colab": {
          "base_uri": "https://localhost:8080/",
          "height": 512
        },
        "id": "ItjNWR13tdvJ",
        "outputId": "0c4dfbd2-eee3-4695-d44b-7f11e471379c"
      },
      "outputs": [],
      "source": [
        "\n",
        "\n",
        "from sklearn.preprocessing import LabelEncoder\n",
        "labelencoder= LabelEncoder()\n",
        "df['clase'] = labelencoder.fit_transform(df['clase'])\n",
        "df['edad'] = labelencoder.fit_transform(df['edad'])\n",
        "df['menopausia'] = labelencoder.fit_transform(df['menopausia'])\n",
        "df['tumor_tamaño'] = labelencoder.fit_transform(df['tumor_tamaño'])\n",
        "df['Ganglios_inv'] = labelencoder.fit_transform(df['Ganglios_inv'])\n",
        "df['nodo_capa'] = labelencoder.fit_transform(df['nodo_capa'])\n",
        "df['seno'] = labelencoder.fit_transform(df['seno'])\n",
        "df['lado'] = labelencoder.fit_transform(df['lado'])\n",
        "df['irradiat'] = labelencoder.fit_transform(df['irradiat'])"
      ]
    },
    {
      "cell_type": "code",
      "execution_count": null,
      "metadata": {
        "id": "IDAaVWSrzIve"
      },
      "outputs": [],
      "source": [
        "df.head(10)"
      ]
    },
    {
      "cell_type": "code",
      "execution_count": null,
      "metadata": {
        "colab": {
          "base_uri": "https://localhost:8080/"
        },
        "id": "gGQ3W9191FHp",
        "outputId": "eb76d937-9902-45be-88fe-f3be9fe44ecb"
      },
      "outputs": [],
      "source": [
        "df['edad'].unique()"
      ]
    },
    {
      "cell_type": "code",
      "execution_count": null,
      "metadata": {
        "id": "w1G8mduQrt9U"
      },
      "outputs": [],
      "source": [
        "# Cargar un conjunto de datos de ejemplo, por ejemplo, el conjunto de datos de iris\n",
        "\n",
        "\n",
        "X = df.iloc[:, :-1]\n",
        "y = df.iloc[:, -1]"
      ]
    },
    {
      "cell_type": "code",
      "execution_count": null,
      "metadata": {
        "id": "zqu7GAsnrvIL"
      },
      "outputs": [],
      "source": [
        "# Dividir el conjunto de datos en conjuntos de entrenamiento y prueba\n",
        "X_train, X_test, y_train, y_test = train_test_split(X, y, test_size=0.4, random_state=42)\n",
        "\n",
        "# Crear un clasificador k-NN con, por ejemplo, k=3\n",
        "knn = KNeighborsClassifier(n_neighbors=2)\n",
        "\n"
      ]
    },
    {
      "cell_type": "code",
      "execution_count": null,
      "metadata": {
        "id": "ihvidzN0rxJl"
      },
      "outputs": [],
      "source": [
        "# Ajustar el modelo con los datos de entrenamiento\n",
        "knn.fit(X_train, y_train)\n",
        "\n"
      ]
    },
    {
      "cell_type": "code",
      "execution_count": null,
      "metadata": {
        "id": "y5LWr8Zoryl8"
      },
      "outputs": [],
      "source": [
        "# Realizar predicciones en el conjunto de prueba\n",
        "y_pred = knn.predict(X_test)\n",
        "\n",
        "# Evaluar la precisión del modelo\n",
        "accuracy = metrics.accuracy_score(y_test, y_pred)\n",
        "print(f'Precisión del modelo: {accuracy}')"
      ]
    },
    {
      "cell_type": "code",
      "execution_count": null,
      "metadata": {
        "id": "pKDTHw7X1afO"
      },
      "outputs": [],
      "source": []
    },
    {
      "cell_type": "code",
      "execution_count": null,
      "metadata": {
        "id": "jVJVcL5-sxwR"
      },
      "outputs": [],
      "source": [
        "# Realizar una predicción para un nuevo conjunto de características (nueva instancia)\n",
        "# Asegúrate de ajustar las características según tu conjunto de datos\n",
        "\n",
        "new_data = [['no-recurrence-events', '40-49', 'ge40', '20-24','0-2','no',1,'left','left_low']]  # Ajusta los valores de las características según tu conjunto de datos\n",
        "# Invertir la transformación de la predicción usando el LabelEncoder\n",
        "predicted_class = labelencoder.inverse_transform(new_data)\n",
        "print(f'Clase predicha para nuevas características: {predicted_class}')\n"
      ]
    }
  ],
  "metadata": {
    "colab": {
      "provenance": []
    },
    "kernelspec": {
      "display_name": "Python 3",
      "name": "python3"
    },
    "language_info": {
      "codemirror_mode": {
        "name": "ipython",
        "version": 3
      },
      "file_extension": ".py",
      "mimetype": "text/x-python",
      "name": "python",
      "nbconvert_exporter": "python",
      "pygments_lexer": "ipython3",
      "version": "3.10.0"
    }
  },
  "nbformat": 4,
  "nbformat_minor": 0
}
