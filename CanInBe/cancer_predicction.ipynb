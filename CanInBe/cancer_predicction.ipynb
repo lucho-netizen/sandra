{
  "cells": [
    {
      "cell_type": "code",
      "execution_count": 7,
      "metadata": {
        "id": "XM7zYfC0rl_W"
      },
      "outputs": [
        {
          "ename": "ModuleNotFoundError",
          "evalue": "No module named 'sklearn'",
          "output_type": "error",
          "traceback": [
            "\u001b[1;31m---------------------------------------------------------------------------\u001b[0m",
            "\u001b[1;31mModuleNotFoundError\u001b[0m                       Traceback (most recent call last)",
            "Cell \u001b[1;32mIn[7], line 2\u001b[0m\n\u001b[0;32m      1\u001b[0m \u001b[38;5;66;03m# Importar bibliotecas\u001b[39;00m\n\u001b[1;32m----> 2\u001b[0m \u001b[38;5;28;01mfrom\u001b[39;00m \u001b[38;5;21;01msklearn\u001b[39;00m\u001b[38;5;21;01m.\u001b[39;00m\u001b[38;5;21;01mmodel_selection\u001b[39;00m \u001b[38;5;28;01mimport\u001b[39;00m train_test_split\n\u001b[0;32m      3\u001b[0m \u001b[38;5;28;01mfrom\u001b[39;00m \u001b[38;5;21;01msklearn\u001b[39;00m\u001b[38;5;21;01m.\u001b[39;00m\u001b[38;5;21;01mneighbors\u001b[39;00m \u001b[38;5;28;01mimport\u001b[39;00m KNeighborsClassifier\n\u001b[0;32m      4\u001b[0m \u001b[38;5;28;01mfrom\u001b[39;00m \u001b[38;5;21;01msklearn\u001b[39;00m \u001b[38;5;28;01mimport\u001b[39;00m datasets\n",
            "\u001b[1;31mModuleNotFoundError\u001b[0m: No module named 'sklearn'"
          ]
        }
      ],
      "source": [
        "# Importar bibliotecas\n",
        "from sklearn.model_selection import train_test_split\n",
        "from sklearn.neighbors import KNeighborsClassifier\n",
        "from sklearn import datasets\n",
        "from sklearn import metrics\n",
        "import pandas as pd\n",
        "from sklearn.preprocessing import LabelEncoder\n",
        "from sklearn.neighbors import KNeighborsClassifier\n"
      ]
    },
    {
      "cell_type": "code",
      "execution_count": null,
      "metadata": {
        "id": "jHBifyXKte2x"
      },
      "outputs": [],
      "source": [
        "file_path = 'breast-cancer.data'\n",
        "df = pd.read_csv(file_path)"
      ]
    },
    {
      "cell_type": "code",
      "execution_count": null,
      "metadata": {
        "colab": {
          "base_uri": "https://localhost:8080/"
        },
        "id": "SlugeVnFtnvi",
        "outputId": "c11c60f5-e66d-4408-87f4-1929d582d0a9"
      },
      "outputs": [],
      "source": [
        "df.info()"
      ]
    },
    {
      "cell_type": "code",
      "execution_count": null,
      "metadata": {
        "colab": {
          "base_uri": "https://localhost:8080/"
        },
        "id": "a9XaHSrdZrR1",
        "outputId": "a7d2bdff-bc13-4526-d9cf-6bd341881593"
      },
      "outputs": [],
      "source": [
        "df['clase'].unique()"
      ]
    },
    {
      "cell_type": "code",
      "execution_count": null,
      "metadata": {
        "colab": {
          "base_uri": "https://localhost:8080/",
          "height": 363
        },
        "id": "tQKijDXyxe3A",
        "outputId": "65f98b93-2d44-43b9-9511-58785a780e6e"
      },
      "outputs": [],
      "source": [
        "df.head(10)"
      ]
    },
    {
      "cell_type": "code",
      "execution_count": null,
      "metadata": {
        "colab": {
          "base_uri": "https://localhost:8080/"
        },
        "id": "zUPMb-6t1NG-",
        "outputId": "34bcafbd-ea28-4b5a-d6ef-0ff031d92dde"
      },
      "outputs": [],
      "source": [
        "df['clase'].unique()"
      ]
    },
    {
      "cell_type": "code",
      "execution_count": null,
      "metadata": {
        "id": "ItjNWR13tdvJ"
      },
      "outputs": [],
      "source": [
        "\n",
        "\n",
        "from sklearn.preprocessing import LabelEncoder\n",
        "labelencoder= LabelEncoder()\n",
        "df['clase'] = labelencoder.fit_transform(df['clase'])\n",
        "df['edad'] = labelencoder.fit_transform(df['edad'])\n",
        "df['menopausia'] = labelencoder.fit_transform(df['menopausia'])\n",
        "df['tumor_tamaño'] = labelencoder.fit_transform(df['tumor_tamaño'])\n",
        "df['Ganglios_inv'] = labelencoder.fit_transform(df['Ganglios_inv'])\n",
        "df['nodo_capa'] = labelencoder.fit_transform(df['nodo_capa'])\n",
        "df['grado_maligno'] = labelencoder.fit_transform(df['grado_maligno'])\n",
        "df['seno'] = labelencoder.fit_transform(df['seno'])\n",
        "df['lado'] = labelencoder.fit_transform(df['lado'])\n",
        "df['irradiar'] = labelencoder.fit_transform(df['irradiar'])"
      ]
    },
    {
      "cell_type": "code",
      "execution_count": null,
      "metadata": {
        "colab": {
          "base_uri": "https://localhost:8080/",
          "height": 363
        },
        "id": "IDAaVWSrzIve",
        "outputId": "7cf09dd2-4037-4540-e674-03d3d417f87c"
      },
      "outputs": [],
      "source": [
        "df.head(10)"
      ]
    },
    {
      "cell_type": "code",
      "execution_count": null,
      "metadata": {
        "id": "JY6_ObeiAn3S"
      },
      "outputs": [],
      "source": []
    },
    {
      "cell_type": "code",
      "execution_count": null,
      "metadata": {
        "colab": {
          "base_uri": "https://localhost:8080/"
        },
        "id": "gGQ3W9191FHp",
        "outputId": "cf91788d-1368-43c0-ac5c-8456342db7f3"
      },
      "outputs": [],
      "source": [
        "df['clase'].unique()"
      ]
    },
    {
      "cell_type": "code",
      "execution_count": null,
      "metadata": {
        "id": "w1G8mduQrt9U"
      },
      "outputs": [],
      "source": [
        "# Cargar un conjunto de datos de ejemplo, por ejemplo, el conjunto de datos de iris\n",
        "\n",
        "\n",
        "X = df.iloc[:, :-1]\n",
        "y = df.iloc[:, -1]"
      ]
    },
    {
      "cell_type": "code",
      "execution_count": null,
      "metadata": {
        "id": "zqu7GAsnrvIL"
      },
      "outputs": [],
      "source": [
        "# Dividir el conjunto de datos en conjuntos de entrenamiento y prueba\n",
        "X_train, X_test, y_train, y_test = train_test_split(X, y, test_size=0.4, random_state=42)\n",
        "\n",
        "# Crear un clasificador k-NN con, por ejemplo, k=3\n",
        "knn = KNeighborsClassifier(n_neighbors=2)\n",
        "\n"
      ]
    },
    {
      "cell_type": "code",
      "execution_count": null,
      "metadata": {
        "colab": {
          "base_uri": "https://localhost:8080/",
          "height": 75
        },
        "id": "ihvidzN0rxJl",
        "outputId": "2e705a29-5c23-4a33-8eb1-6247861a25f3"
      },
      "outputs": [],
      "source": [
        "# Ajustar el modelo con los datos de entrenamiento\n",
        "knn.fit(X_train, y_train)\n",
        "\n"
      ]
    },
    {
      "cell_type": "code",
      "execution_count": null,
      "metadata": {
        "colab": {
          "base_uri": "https://localhost:8080/"
        },
        "id": "y5LWr8Zoryl8",
        "outputId": "a3652394-ace6-4344-8c05-56f309f504d9"
      },
      "outputs": [],
      "source": [
        "# Realizar predicciones en el conjunto de prueba\n",
        "y_pred = knn.predict(X_test)\n",
        "\n",
        "# Evaluar la precisión del modelo\n",
        "accuracy = metrics.accuracy_score(y_test, y_pred)\n",
        "print(f'Precisión del modelo: {accuracy}')"
      ]
    },
    {
      "cell_type": "code",
      "execution_count": null,
      "metadata": {
        "id": "NUw6wEvqZN41"
      },
      "outputs": [],
      "source": []
    },
    {
      "cell_type": "code",
      "execution_count": null,
      "metadata": {
        "id": "pKDTHw7X1afO"
      },
      "outputs": [],
      "source": [
        "from sklearn.preprocessing import LabelEncoder\n",
        "new_data = {'clase': ['no-recurrence-events'],\n",
        "            'edad': ['40-49'],\n",
        "            'menopausia':['premeno'],\n",
        "            'tumor_tamaño':['30-34'],\n",
        "            'Ganglios_inv':['0-2'],\n",
        "            'nodo_capa':['no'],\n",
        "            'grado_maligno':[3],\n",
        "            'seno':['left'],\n",
        "            'lado':['left_low'],\n",
        "            'irradiar':['no']\n",
        "            }\n",
        "\n",
        "df_ = pd.DataFrame(new_data)\n",
        "from sklearn.preprocessing import LabelEncoder\n",
        "labelencoder= LabelEncoder()\n",
        "df_['clase'] = labelencoder.fit_transform(df_['clase'])\n",
        "df_['edad'] = labelencoder.fit_transform(df_['edad'])\n",
        "df_['menopausia'] = labelencoder.fit_transform(df_['menopausia'])\n",
        "df_['tumor_tamaño'] = labelencoder.fit_transform(df_['tumor_tamaño'])\n",
        "df_['Ganglios_inv'] = labelencoder.fit_transform(df_['Ganglios_inv'])\n",
        "df_['nodo_capa'] = labelencoder.fit_transform(df_['nodo_capa'])\n",
        "df_['grado_maligno'] = labelencoder.fit_transform(df_['grado_maligno'])\n",
        "df_['seno'] = labelencoder.fit_transform(df_['seno'])\n",
        "df_['lado'] = labelencoder.fit_transform(df_['lado'])\n",
        "df_['irradiar'] = labelencoder.fit_transform(df_['irradiar'])\n",
        "\n"
      ]
    },
    {
      "cell_type": "code",
      "execution_count": null,
      "metadata": {
        "colab": {
          "base_uri": "https://localhost:8080/",
          "height": 89
        },
        "id": "1-Oh3WsUd2Yz",
        "outputId": "6eee58c2-db32-45ef-b404-cc98040af928"
      },
      "outputs": [],
      "source": [
        "df_"
      ]
    },
    {
      "cell_type": "code",
      "execution_count": null,
      "metadata": {
        "colab": {
          "base_uri": "https://localhost:8080/"
        },
        "id": "wQfvi5Frd2B6",
        "outputId": "80e5f8dc-46a1-48ba-da40-4497a3dc44a2"
      },
      "outputs": [],
      "source": [
        "# Realizar predicciones con los nuevos datos transformados\n",
        "new_predictions = knn.predict(df_[['clase', 'edad','menopausia','tumor_tamaño','Ganglios_inv','nodo_capa','grado_maligno','seno','lado',]])\n",
        "print(f'Predicciones para nuevos datos: {new_predictions}')"
      ]
    },
    {
      "cell_type": "code",
      "execution_count": 6,
      "metadata": {
        "colab": {
          "base_uri": "https://localhost:8080/"
        },
        "id": "jVJVcL5-sxwR",
        "outputId": "3e62627b-3a98-4e19-cf35-062d2c259937"
      },
      "outputs": [
        {
          "ename": "NameError",
          "evalue": "name 'LabelEncoder' is not defined",
          "output_type": "error",
          "traceback": [
            "\u001b[1;31m---------------------------------------------------------------------------\u001b[0m",
            "\u001b[1;31mNameError\u001b[0m                                 Traceback (most recent call last)",
            "Cell \u001b[1;32mIn[6], line 6\u001b[0m\n\u001b[0;32m      1\u001b[0m \u001b[38;5;66;03m# Realizar una predicción para un nuevo conjunto de características (nueva instancia)\u001b[39;00m\n\u001b[0;32m      2\u001b[0m \u001b[38;5;66;03m# Asegúrate de ajustar las características según tu conjunto de datos\u001b[39;00m\n\u001b[0;32m      5\u001b[0m new_data \u001b[38;5;241m=\u001b[39m [[\u001b[38;5;124m'\u001b[39m\u001b[38;5;124mno-recurrence-events\u001b[39m\u001b[38;5;124m'\u001b[39m,\u001b[38;5;124m'\u001b[39m\u001b[38;5;124m30-39\u001b[39m\u001b[38;5;124m'\u001b[39m,\u001b[38;5;124m'\u001b[39m\u001b[38;5;124mpremeno\u001b[39m\u001b[38;5;124m'\u001b[39m,\u001b[38;5;124m'\u001b[39m\u001b[38;5;124m40-44\u001b[39m\u001b[38;5;124m'\u001b[39m,\u001b[38;5;124m'\u001b[39m\u001b[38;5;124m3-5\u001b[39m\u001b[38;5;124m'\u001b[39m,\u001b[38;5;124m'\u001b[39m\u001b[38;5;124mno\u001b[39m\u001b[38;5;124m'\u001b[39m,\u001b[38;5;124m'\u001b[39m\u001b[38;5;124m3\u001b[39m\u001b[38;5;124m'\u001b[39m,\u001b[38;5;124m'\u001b[39m\u001b[38;5;124mright\u001b[39m\u001b[38;5;124m'\u001b[39m,\u001b[38;5;124m'\u001b[39m\u001b[38;5;124mright_up\u001b[39m\u001b[38;5;124m'\u001b[39m]]  \u001b[38;5;66;03m# Ajusta los valores de las características según tu conjunto de datos\u001b[39;00m\n\u001b[1;32m----> 6\u001b[0m le \u001b[38;5;241m=\u001b[39m \u001b[43mLabelEncoder\u001b[49m()\n\u001b[0;32m      7\u001b[0m \u001b[38;5;28;01mfor\u001b[39;00m i, feature \u001b[38;5;129;01min\u001b[39;00m \u001b[38;5;28menumerate\u001b[39m(new_data[\u001b[38;5;241m0\u001b[39m]):\n\u001b[0;32m      8\u001b[0m     \u001b[38;5;28;01mif\u001b[39;00m \u001b[38;5;28misinstance\u001b[39m(feature, \u001b[38;5;28mstr\u001b[39m):\n",
            "\u001b[1;31mNameError\u001b[0m: name 'LabelEncoder' is not defined"
          ]
        }
      ],
      "source": [
        "# Realizar una predicción para un nuevo conjunto de características (nueva instancia)\n",
        "# Asegúrate de ajustar las características según tu conjunto de datos\n",
        "\n",
        "\n",
        "new_data = [['no-recurrence-events','30-39','premeno','40-44','3-5','no','3','right','right_up']]  # Ajusta los valores de las características según tu conjunto de datos\n",
        "le = LabelEncoder()\n",
        "for i, feature in enumerate(new_data[0]):\n",
        "    if isinstance(feature, str):\n",
        "        new_data[0][i] = le.fit_transform([feature])[0]\n",
        "\n",
        "prediction = knn.predict(new_data)\n",
        "print(f'Predicción para nuevas características: {prediction}')\n",
        "\n"
      ]
    },
    {
      "cell_type": "code",
      "execution_count": null,
      "metadata": {
        "id": "Rc2EMMKAqRNj"
      },
      "outputs": [],
      "source": []
    }
  ],
  "metadata": {
    "colab": {
      "provenance": []
    },
    "kernelspec": {
      "display_name": "Python 3",
      "name": "python3"
    },
    "language_info": {
      "codemirror_mode": {
        "name": "ipython",
        "version": 3
      },
      "file_extension": ".py",
      "mimetype": "text/x-python",
      "name": "python",
      "nbconvert_exporter": "python",
      "pygments_lexer": "ipython3",
      "version": "3.11.5"
    }
  },
  "nbformat": 4,
  "nbformat_minor": 0
}
